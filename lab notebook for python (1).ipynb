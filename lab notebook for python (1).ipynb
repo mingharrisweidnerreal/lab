{
 "cells": [
  {
   "cell_type": "code",
   "execution_count": 5,
   "metadata": {},
   "outputs": [
    {
     "name": "stdout",
     "output_type": "stream",
     "text": [
      "2\n",
      "10\n"
     ]
    }
   ],
   "source": [
    "#rule 1-4\n",
    "\n",
    "import numpy as np\n",
    "\n",
    "def rule_1(c,dA):\n",
    "    dQ= c*dA\n",
    "    return dQ\n",
    "\n",
    "c=1\n",
    "dA=2\n",
    "\n",
    "dQ= rule_1(c,dA)\n",
    "print (dQ)\n",
    "\n",
    "def rule_2 (c, m, A, dA):\n",
    "    dQ= abs(c*m*(A**(m-1)))*dA\n",
    "    return dQ\n",
    "c=1\n",
    "m=2\n",
    "A=1\n",
    "dA=5\n",
    "\n",
    "dQ= rule_2(c, m, A, dA)\n",
    "print (dQ)\n"
   ]
  },
  {
   "cell_type": "code",
   "execution_count": 8,
   "metadata": {},
   "outputs": [
    {
     "name": "stdout",
     "output_type": "stream",
     "text": [
      "0.7071067811865476\n",
      "0.02309586801347662\n"
     ]
    }
   ],
   "source": [
    "def Rule_4(Q, m, n, dA, A, dB, B):\n",
    "    dQ= abs(Q)*np.sqrt(((m*(dA/A))**2)+(n*(dB/B)**2))\n",
    "    return dQ\n",
    "\n",
    "Q=1\n",
    "m=1\n",
    "n=1\n",
    "dA=1\n",
    "A=2\n",
    "dB=1\n",
    "B=2\n",
    "\n",
    "dQ= Rule_4 (Q, m, n, dA, A, dB, B)\n",
    "print(dQ)\n",
    "\n",
    "#recalculating centripital force lab using Rule 4\n",
    "\n",
    "Q=.782176\n",
    "m=1\n",
    "n=(1)\n",
    "dA= .0001\n",
    "A= .2083\n",
    "dB= .31\n",
    "B= 10.5\n",
    "\n",
    "dQ= Rule_4 (Q, m, n, dA, A, dB, B)\n",
    "print(dQ)\n",
    "\n",
    "#the results of the calculations are the same\n"
   ]
  },
  {
   "cell_type": "code",
   "execution_count": 18,
   "metadata": {},
   "outputs": [
    {
     "name": "stdout",
     "output_type": "stream",
     "text": [
      "[1.1  1.3  1.4  0.9  0.95 1.05]\n",
      "1.1166666666666667\n",
      "0.17950549357115014\n",
      "0.073282810879294\n"
     ]
    }
   ],
   "source": [
    "x=np.array([1.1, 1.3, 1.4, .9, .95, 1.05])\n",
    "n= len(x)\n",
    "print (x)\n",
    "\n",
    "print (np.average(x))\n",
    "\n",
    "print (np.std(x))\n",
    "\n",
    "def err_mean(x, n):\n",
    "    sigma= (np.std(x)/np.sqrt(n))\n",
    "    return sigma\n",
    "\n",
    "print (err_mean(x, n))\n",
    "\n",
    "#the mean was found to be 1.12 the err in the mean was found to be .073 "
   ]
  },
  {
   "cell_type": "markdown",
   "metadata": {},
   "source": [
    "$\\delta Q = \\sqrt{(\\delta A)^2+(\\delta B)^2)}$\n"
   ]
  },
  {
   "cell_type": "markdown",
   "metadata": {},
   "source": [
    "$\\Sigma F_c= .783176\\sqrt{(1*\\frac{.0001}{.2083})^2 +(-1*\\frac{.31}{10.5})^2}$"
   ]
  },
  {
   "cell_type": "code",
   "execution_count": null,
   "metadata": {},
   "outputs": [],
   "source": []
  }
 ],
 "metadata": {
  "kernelspec": {
   "display_name": "Python 3",
   "language": "python",
   "name": "python3"
  },
  "language_info": {
   "codemirror_mode": {
    "name": "ipython",
    "version": 3
   },
   "file_extension": ".py",
   "mimetype": "text/x-python",
   "name": "python",
   "nbconvert_exporter": "python",
   "pygments_lexer": "ipython3",
   "version": "3.8.3"
  }
 },
 "nbformat": 4,
 "nbformat_minor": 4
}
